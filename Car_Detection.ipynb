{
  "cells": [
    {
      "cell_type": "code",
      "execution_count": null,
      "id": "11678da9",
      "metadata": {
        "id": "11678da9"
      },
      "outputs": [],
      "source": [
        "import cv2\n",
        "import numpy as np\n",
        "from PIL import Image as im"
      ]
    },
    {
      "cell_type": "code",
      "execution_count": null,
      "id": "5b99f0e1",
      "metadata": {
        "id": "5b99f0e1"
      },
      "outputs": [],
      "source": [
        "class VehicleDetector:\n",
        "\n",
        "    def __init__(self):\n",
        "        # Load Network\n",
        "        modelConfiguration = \"yolov4.cfg\"\n",
        "        modelWeights = \"yolov4.weights\"\n",
        "        net = cv2.dnn.readNet(modelWeights, modelConfiguration)\n",
        "        self.model = cv2.dnn_DetectionModel(net)\n",
        "        self.model.setInputParams(size=(832, 832), scale=1 / 255)\n",
        "\n",
        "\n",
        "        # Allow classes containing Vehicles only\n",
        "        self.classes_allowed = [2, 3, 5, 6, 7]\n",
        "\n",
        "\n",
        "    def detect_vehicles(self, img):\n",
        "        # Detect Objects\n",
        "        vehicles_boxes = []\n",
        "        class_ids, scores, boxes = self.model.detect(img, nmsThreshold=0.4)\n",
        "        for class_id, score, box in zip(class_ids, scores, boxes):\n",
        "            if score < 0.5:\n",
        "                # Skip detection with low confidence\n",
        "                continue\n",
        "\n",
        "            if class_id in self.classes_allowed:\n",
        "                vehicles_boxes.append(box)\n",
        "\n",
        "        return vehicles_boxes"
      ]
    },
    {
      "cell_type": "code",
      "execution_count": null,
      "id": "ba8db555",
      "metadata": {
        "id": "ba8db555",
        "outputId": "d43077e6-55af-4443-f0eb-4f8d095a8199"
      },
      "outputs": [
        {
          "name": "stdout",
          "output_type": "stream",
          "text": [
            "[array([238, 244, 122,  65]), array([166, 209, 106,  96]), array([224, 165,  98,  83]), array([ 53, 188,  86,  69]), array([329, 173,  90,  79]), array([  1, 203,  34,  56]), array([ 12, 160,  74,  64]), array([284, 143,  75,  76]), array([ 39, 242,  39,  45]), array([151,  23,  83,  55]), array([ 52, 243, 145,  66]), array([  0,  37, 122,  82]), array([194,   5,  82,  47])]\n",
            "13\n"
          ]
        }
      ],
      "source": [
        "vd = VehicleDetector()\n",
        "img = cv2.imread(\"trail.png\")\n",
        "# print(img)\n",
        "vehicle_boxes = vd.detect_vehicles(img)\n",
        "print(vehicle_boxes)\n",
        "vehicle_count = len(vehicle_boxes)\n",
        "print(vehicle_count)\n",
        "\n",
        "for box in vehicle_boxes:\n",
        "    x, y, w, h = box\n",
        "\n",
        "    cv2.rectangle(img, (x, y), (x + w, y + h), (25, 0, 180), 3)\n",
        "\n",
        "    a = cv2.putText(img, \"Vehicles: \" + str(vehicle_count), (20, 50), 0, 2, (100, 200, 0), 3)\n",
        "\n",
        "    data = im.fromarray(a)\n",
        "    # print(len(data))\n",
        "\n",
        "    data.save('result_pic4.png')"
      ]
    },
    {
      "cell_type": "code",
      "execution_count": null,
      "id": "27be8312",
      "metadata": {
        "id": "27be8312"
      },
      "outputs": [],
      "source": [
        "import matplotlib.pyplot as plt"
      ]
    },
    {
      "cell_type": "code",
      "execution_count": null,
      "id": "3bdb1cb9",
      "metadata": {
        "id": "3bdb1cb9"
      },
      "outputs": [],
      "source": [
        "cap = cv2.VideoCapture(0)\n",
        "ret , frame = cap.read()\n",
        "cap.release()"
      ]
    },
    {
      "cell_type": "code",
      "execution_count": null,
      "id": "843782c0",
      "metadata": {
        "id": "843782c0"
      },
      "outputs": [],
      "source": [
        "cap = cv2.VideoCapture(1)\n",
        "ret , frame = cap.read()\n",
        "cap.release()"
      ]
    },
    {
      "cell_type": "code",
      "execution_count": null,
      "id": "a72f3dcf",
      "metadata": {
        "id": "a72f3dcf"
      },
      "outputs": [],
      "source": [
        "plt.imshow(frame)"
      ]
    },
    {
      "cell_type": "code",
      "execution_count": null,
      "id": "4064bdfa",
      "metadata": {
        "id": "4064bdfa"
      },
      "outputs": [],
      "source": [
        "# print(frame)"
      ]
    },
    {
      "cell_type": "code",
      "execution_count": null,
      "id": "96eddccc",
      "metadata": {
        "id": "96eddccc"
      },
      "outputs": [],
      "source": [
        "import matplotlib.pyplot as plt"
      ]
    },
    {
      "cell_type": "code",
      "execution_count": null,
      "id": "39bc84e7",
      "metadata": {
        "id": "39bc84e7"
      },
      "outputs": [],
      "source": [
        "def get_img(camera_id):\n",
        "    cap = cv2.VideoCapture(camera_id)\n",
        "    ret , frame = cap.read()\n",
        "    cap.release()\n",
        "\n",
        "    if ret == True:\n",
        "        plt.imshow(frame)\n",
        "        cap.release()\n",
        "        img.imsave('image.png', frame)\n",
        "          #to release the camera\n",
        "        return frame\n",
        "\n",
        "    else:\n",
        "        return \"camera not connected try another id\""
      ]
    },
    {
      "cell_type": "code",
      "execution_count": null,
      "id": "7f8f81f9",
      "metadata": {
        "id": "7f8f81f9"
      },
      "outputs": [],
      "source": [
        "vd = VehicleDetector()\n",
        "\n",
        "def vehicle_count(images_array):\n",
        "    for img in images_array:\n",
        "        vehicle_boxes = vd.detect_vehicles(img)\n",
        "        vehicle_count = len(vehicle_boxes)\n",
        "        print(vehicle_count)\n",
        "        vehicles_folder_count.append(vehicle_count)\n",
        "        print(vehicles_folder_count)\n",
        "\n",
        "        for box in vehicle_boxes:\n",
        "            x, y, w, h = box\n",
        "\n",
        "            cv2.rectangle(img, (x, y), (x + w, y + h), (25, 0, 180), 3)\n",
        "\n",
        "            a = cv2.putText(img, \"Vehicles: \" + str(vehicle_count), (20, 50), 0, 2, (100, 200, 0), 3)\n",
        "\n",
        "            data = im.fromarray(a)\n",
        "            im.show(data)\n",
        "\n",
        "    return vehicles_folder_count"
      ]
    },
    {
      "cell_type": "code",
      "execution_count": null,
      "id": "6efeaa53",
      "metadata": {
        "id": "6efeaa53"
      },
      "outputs": [],
      "source": [
        "cam1 = get_img(0)\n",
        "cam2 = get_img(1)"
      ]
    },
    {
      "cell_type": "code",
      "source": [
        "plt.imshow(cam1)\n",
        "plt.imshow(cam2)\n",
        "\n",
        "images = [cam1,cam2]"
      ],
      "metadata": {
        "id": "WK3N8Tn2rXF1"
      },
      "id": "WK3N8Tn2rXF1",
      "execution_count": null,
      "outputs": []
    },
    {
      "cell_type": "code",
      "source": [
        "side = vehicle_count(images)\n",
        "print(side)"
      ],
      "metadata": {
        "id": "A7mDy-oVrakM"
      },
      "id": "A7mDy-oVrakM",
      "execution_count": null,
      "outputs": []
    }
  ],
  "metadata": {
    "kernelspec": {
      "display_name": "Python 3 (ipykernel)",
      "language": "python",
      "name": "python3"
    },
    "language_info": {
      "codemirror_mode": {
        "name": "ipython",
        "version": 3
      },
      "file_extension": ".py",
      "mimetype": "text/x-python",
      "name": "python",
      "nbconvert_exporter": "python",
      "pygments_lexer": "ipython3",
      "version": "3.9.6"
    },
    "colab": {
      "provenance": []
    }
  },
  "nbformat": 4,
  "nbformat_minor": 5
}